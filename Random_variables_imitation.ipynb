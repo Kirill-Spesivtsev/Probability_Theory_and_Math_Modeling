{
 "cells": [
  {
   "cell_type": "markdown",
   "metadata": {
    "collapsed": true,
    "pycharm": {
     "name": "#%% md\n"
    }
   },
   "source": [
    "# Одномерные случайные величины"
   ]
  },
  {
   "cell_type": "markdown",
   "metadata": {},
   "source": [
    "### Непрерывная СВ"
   ]
  },
  {
   "cell_type": "code",
   "execution_count": 10,
   "metadata": {
    "pycharm": {
     "name": "#%%\n"
    }
   },
   "outputs": [],
   "source": [
    "from random import random\n",
    "from scipy.integrate import quad\n",
    "from scipy.stats import chi2, t\n",
    "\n",
    "from sympy import *\n",
    "\n",
    "import matplotlib.pyplot as plt\n",
    "import numpy as np"
   ]
  },
  {
   "cell_type": "code",
   "execution_count": 11,
   "metadata": {},
   "outputs": [],
   "source": [
    "\n",
    "def get_inv_from_density(str_func, a, b):\n",
    "            x, y = symbols(\"x y\")\n",
    "            expr = sympify(str_func)\n",
    "            expr = integrate(expr, (x, a, x))\n",
    "            expr = solve(expr - y, x)\n",
    "            return expr[0]\n",
    "\n",
    "def get_inv_from_function(str_func, a, b):\n",
    "            x, y = symbols(\"x y\")\n",
    "            expr = sympify(str_func)\n",
    "            expr = solve(expr - y, x)\n",
    "            return expr[0]\n",
    "    \n",
    "#print(get_inv_from_density(\"0.5*exp(-0.5*x)\", 0, oo))"
   ]
  },
  {
   "cell_type": "code",
   "execution_count": null,
   "metadata": {},
   "outputs": [],
   "source": []
  },
  {
   "cell_type": "code",
   "execution_count": 12,
   "metadata": {},
   "outputs": [],
   "source": [
    "def continuous_distribution(a, b):\n",
    "        return (b - a) * random() + a\n"
   ]
  },
  {
   "cell_type": "code",
   "execution_count": 13,
   "metadata": {},
   "outputs": [],
   "source": [
    "#print(\"Введите закон распределения:\")\n",
    "str_func = \"1/(2*pi)**0.5 * exp(-((x)**2)/2)\"\n",
    "#print(\"Введите левую границу:\")\n",
    "a = -10\n",
    "#print(\"Введите правую границу:\")\n",
    "b = 10\n",
    "\n",
    "def generate_series(n):\n",
    "    y = Symbol(\"y\", real=True)\n",
    "    expr = get_inv_from_density(str_func, a, b)\n",
    "    new_f = lambdify(y, expr)\n",
    "    res = []\n",
    "    for i in range(n):\n",
    "        res.append(np.around(new_f(random()),3))\n",
    "    return res\n",
    "\n"
   ]
  },
  {
   "cell_type": "code",
   "execution_count": 66,
   "metadata": {},
   "outputs": [],
   "source": [
    "#\"1/(7-5)\"\n",
    "#\"5\"\n",
    "#\"7\""
   ]
  },
  {
   "cell_type": "code",
   "execution_count": 6,
   "metadata": {},
   "outputs": [
    {
     "name": "stdout",
     "output_type": "stream",
     "text": [
      "[0.392, -0.856, 0.587, 0.074, 0.565, 0.027, 0.479, -1.395, -0.707, 0.708, 1.009, -0.524, -1.036, -0.45, 0.603, -1.093, -0.45, 0.951, -1.37, 1.143, -0.32, -1.254, 1.851, 0.037, 1.467, 1.588, -0.613, -1.883, -1.158, -0.185, 2.077, 0.571, 0.787, 0.766, 1.167, -0.091, 1.504, 0.955, 0.674, -0.648, 1.87, -0.053, 0.634, -0.501, 1.545, -0.046, -0.917, -1.596, -1.089, 1.324, 1.238, 2.147, 1.284, 0.54, 0.56, 0.258, 1.582, 0.306, -0.766, 0.565, -0.664, -0.083, -1.093, 0.817, 0.253, 0.173, -0.338, -1.225, 0.76, -1.173, -0.688, 2.2, 0.671, -0.649, 0.705, 1.109, 0.408, -1.027, -1.05, 1.517, 1.281, 0.787, -1.652, -1.729, 0.008, 1.056, 0.271, 1.477, 1.433, -1.035, -0.96, -0.475, 0.575, -1.297, 0.515, -0.548, -0.242, -0.515, 0.794, 1.873]\n"
     ]
    }
   ],
   "source": [
    "amount = 100\n",
    "yzz = generate_series(amount) \n",
    "print(yzz)"
   ]
  },
  {
   "cell_type": "code",
   "execution_count": 68,
   "metadata": {},
   "outputs": [],
   "source": [
    "#get_inv_from_function(str_func, a, b)"
   ]
  },
  {
   "cell_type": "code",
   "execution_count": null,
   "metadata": {},
   "outputs": [],
   "source": [
    "\n",
    "amount = 100\n",
    "y1 = generate_series(amount) \n",
    "for i in range(len(y1)):\n",
    "    y1[i] = y1[i] / (a + b) * 2 / (b-a)\n",
    "\n",
    "x1 = list(np.linspace(5, 7, num=amount))\n",
    "plt.ylim(0, 1)\n",
    "plt.title(\"Эмпирическая плотность распределения\")\n",
    "\n",
    "plt.plot(x1, y1)\n"
   ]
  },
  {
   "cell_type": "code",
   "execution_count": 14,
   "metadata": {
    "pycharm": {
     "name": "#%%\n"
    }
   },
   "outputs": [],
   "source": [
    "\n",
    "def plot_show(has_legend=True):\n",
    "    plt.grid(True, which='both', linestyle='--')\n",
    "    if has_legend:\n",
    "        plt.ylabel('Длина интервала')\n",
    "        plt.xlabel('$\\y$')\n",
    "        plt.legend()\n",
    "    plt.show()\n",
    "\n",
    "\n",
    "def calculate_intervals_len(interval):\n",
    "    return [i[1] - i[0] for i in interval]"
   ]
  },
  {
   "cell_type": "code",
   "execution_count": 15,
   "metadata": {},
   "outputs": [],
   "source": [
    "def get_dist_func(str_func, a, b):\n",
    "            x, y = symbols(\"x y\")\n",
    "            expr = sympify(str_func)\n",
    "            expr = integrate(expr, (x, a, x))\n",
    "            new_f = lambdify(x, expr)\n",
    "            return new_f\n",
    "\n",
    "def F(x):\n",
    "    y = Symbol(\"y\", real=True)\n",
    "    func = get_dist_func(str_func, a, b)\n",
    "    return func(x)\n",
    "    \n"
   ]
  },
  {
   "cell_type": "code",
   "execution_count": null,
   "metadata": {},
   "outputs": [],
   "source": []
  },
  {
   "cell_type": "code",
   "execution_count": 10,
   "metadata": {
    "pycharm": {
     "name": "#%%\n"
    }
   },
   "outputs": [],
   "source": [
    "conf_level = (0.90, 0.95, 0.99)"
   ]
  },
  {
   "cell_type": "code",
   "execution_count": 11,
   "metadata": {},
   "outputs": [],
   "source": [
    "series = generate_series(50000)\n",
    "series.sort()"
   ]
  },
  {
   "cell_type": "code",
   "execution_count": 17,
   "metadata": {},
   "outputs": [],
   "source": [
    "def equal_interval_hist(x, n, m):\n",
    "    h = (x[n-1] - x[0]) / m\n",
    "    A = []\n",
    "    B = []\n",
    "    for i in range(m):\n",
    "        A.append(x[0] + i*h)\n",
    "    for i in range(m - 1):\n",
    "        B.append(A[i + 1])\n",
    "    B.append(x[-1])\n",
    "    p = [0] * m\n",
    "    f = [0] * m\n",
    "    for i in range(m):\n",
    "        for j in x:\n",
    "            if B[i] == j:\n",
    "                if i + 1 < m:\n",
    "                    p[i] += 0.5\n",
    "                    p[i + 1] += 0.5\n",
    "                else:\n",
    "                    p[i] += 0.5\n",
    "            elif A[i] < j < B[i]:\n",
    "                p[i] += 1\n",
    "        f[i] = p[i] / (n * h)\n",
    "    return (A, B, f, p)\n",
    "\n"
   ]
  },
  {
   "cell_type": "code",
   "execution_count": 18,
   "metadata": {},
   "outputs": [],
   "source": [
    "def equal_probability_hist(y, n, parts):\n",
    "    m_count = parts\n",
    "    m = n // m_count\n",
    "    A = []\n",
    "    B = []\n",
    "    h = [0] * m_count\n",
    "    f = [0] * m_count\n",
    "    A.append(y[0])\n",
    "    for i in range(1, m_count):\n",
    "        A.append((y[m * i] + y[m * i + 1]) / 2)\n",
    "    for i in range(m_count - 1):\n",
    "        B.append(A[i + 1])\n",
    "    B.append(y[-1])\n",
    "\n",
    "    for i in range(m_count):\n",
    "        h[i] = B[i] - A[i]\n",
    "        f[i] = m / (n * h[i]) if h[i] != 0 else 0\n",
    "    return (A, B, f, m)"
   ]
  },
  {
   "cell_type": "code",
   "execution_count": 14,
   "metadata": {},
   "outputs": [
    {
     "data": {
      "image/png": "[encoded data removed]",
      "text/plain": [
       "<Figure size 432x288 with 1 Axes>"
      ]
     },
     "metadata": {
      "needs_background": "light"
     },
     "output_type": "display_data"
    }
   ],
   "source": [
    "A_new, B_new, f_new, m_new = equal_interval_hist(series, len(series), 50)\n",
    "plt.title(\"Равноинтервальная гистограмма\")\n",
    "\n",
    "plt.step(B_new, f_new, color='green')\n",
    "plt.show()"
   ]
  },
  {
   "cell_type": "code",
   "execution_count": 15,
   "metadata": {},
   "outputs": [
    {
     "data": {
      "image/png": "[encoded data removed]",
      "text/plain": [
       "<Figure size 432x288 with 1 Axes>"
      ]
     },
     "metadata": {
      "needs_background": "light"
     },
     "output_type": "display_data"
    }
   ],
   "source": [
    "A_new, B_new, f_new, m_new = equal_probability_hist(series, len(series), 50)\n",
    "plt.title(\"Равновероятностная гистограмма\")\n",
    "\n",
    "plt.step(B_new, f_new, color='green')\n",
    "plt.show()"
   ]
  },
  {
   "cell_type": "markdown",
   "metadata": {
    "pycharm": {
     "name": "#%% md\n"
    }
   },
   "source": [
    "Точечная оценка мат. ожидания:\n",
    "\n",
    "\\begin{equation*}\n",
    "m_x^* = \\frac{1} n \\sum_{i=1}^n x_i\n",
    "\\end{equation*}"
   ]
  },
  {
   "cell_type": "markdown",
   "metadata": {},
   "source": [
    "Точечная оценка дисперсии:\n",
    "\n",
    "\\begin{equation*}\n",
    "D = \\frac{1}{n-1} \\sum_{i=1}^n{\\left( x_i - m_x^* \\right)}^2\n",
    "\\end{equation*}"
   ]
  },
  {
   "cell_type": "code",
   "execution_count": 16,
   "metadata": {
    "pycharm": {
     "name": "#%%\n"
    }
   },
   "outputs": [],
   "source": [
    "def calculate_expected_value(series):\n",
    "    return np.around(sum(series) / len(series), 4)"
   ]
  },
  {
   "cell_type": "code",
   "execution_count": 17,
   "metadata": {
    "pycharm": {
     "name": "#%%\n"
    }
   },
   "outputs": [],
   "source": [
    "def calculate_dispersion(expected_val, series):\n",
    "    return np.around(sum([(i - expected_val) ** 2 for i in series]) / (len(series) - 1), 4)\n"
   ]
  },
  {
   "cell_type": "code",
   "execution_count": 18,
   "metadata": {},
   "outputs": [
    {
     "name": "stdout",
     "output_type": "stream",
     "text": [
      "n:\n",
      "100\n",
      "Значения: [0.628, -0.137, -1.461, 1.873, -0.061, 1.682, 0.758, 1.938, 0.972, 0.054, -1.867, -0.188, -1.049, 0.522, -0.454, 1.045, 0.529, 0.645, 1.682, -0.541, -0.287, -1.366, 0.574, 1.297, -0.2, 0.215, -0.14, -1.678, -1.053, -0.318, 1.508, -1.451, 0.562, -1.43, 0.95, 1.269, 0.246, 0.314, 1.039, 1.924, 1.749, 1.33, -0.162, -0.006, -0.427, 0.598, -0.957, -0.954, -0.811, 0.99, -0.873, -0.592, -0.861, -0.231, 1.074, 0.131, -1.634, -0.723, 0.435, -0.603, 0.681, 1.784, -0.283, 0.044, -0.639, 0.595, -0.306, 0.875, 0.195, 0.379, -1.625, -0.578, -0.81, 0.916, 1.673, 0.819, -0.085, -0.665, 0.984, -0.393, 0.175, 0.811, 1.637, 0.194, -0.363, 2.584, -0.898, 0.513, -1.714, 1.477, 1.011, 1.339, 0.785, -0.946, -0.186, -0.772, -0.682, 2.419, -1.674, -1.595]\n",
      "Точечная оценка Мат. ожидания: 0.1369\n",
      "Точечная оценка Дисперсии: 1.0943\n"
     ]
    }
   ],
   "source": [
    "print(\"n:\")\n",
    "n = int(input())\n",
    "ser = generate_series(n)\n",
    "exp = calculate_expected_value(ser)\n",
    "print(f\"Значения: {ser}\")\n",
    "print(f\"Точечная оценка Мат. ожидания: {exp}\")\n",
    "print(f\"Точечная оценка Дисперсии: {calculate_dispersion(exp, ser)}\")"
   ]
  },
  {
   "cell_type": "code",
   "execution_count": null,
   "metadata": {},
   "outputs": [],
   "source": []
  },
  {
   "cell_type": "markdown",
   "metadata": {
    "pycharm": {
     "name": "#%% md\n"
    }
   },
   "source": [
    "Доверительный интервал для математического ожидания:\n",
    "\n",
    "\\begin{equation*}\n",
    "m_x^* - \\frac{D \\cdot t_{\\gamma,n-1}}{\\sqrt{n-1}} \\leq m_x \\le m_x^* + \\frac{D \\cdot t_{\\gamma,n-1}}{\\sqrt{n-1}}\n",
    "\\end{equation*}"
   ]
  },
  {
   "cell_type": "code",
   "execution_count": 19,
   "metadata": {
    "pycharm": {
     "name": "#%%\n"
    }
   },
   "outputs": [],
   "source": [
    "def create_intervals(expected_val, dispersion, series_len, student):\n",
    "    t_i = lambda t: dispersion * t / np.sqrt(series_len - 1)\n",
    "    return [(expected_val - t_i(i), expected_val + t_i(i)) for i in student]\n",
    "\n",
    "\n",
    "def get_practical_interval(series, expected_val, student):\n",
    "    dispersion = calculate_dispersion(expected_val, series)\n",
    "    return create_intervals(expected_val, dispersion, len(series), student), dispersion\n"
   ]
  },
  {
   "cell_type": "code",
   "execution_count": 20,
   "metadata": {
    "pycharm": {
     "name": "#%%\n"
    }
   },
   "outputs": [],
   "source": [
    "def plot_significance_level(series, y_lim=(0.01, 0.12)):\n",
    "    student = [t.ppf(1-(1-i)/2, len(series) - 1) for i in conf_level]\n",
    "    expected_value = calculate_expected_value(series)\n",
    "    empiric = get_practical_interval(series, expected_value, student)\n",
    "    print(f\"Доверительный интервал мат. ожидания(n = {len(series)}): {empiric[0][0]}\")\n",
    "    empiric_intervals_len = calculate_intervals_len(empiric[0])\n",
    "\n",
    "    return empiric_intervals_len"
   ]
  },
  {
   "cell_type": "code",
   "execution_count": 21,
   "metadata": {
    "pycharm": {
     "name": "#%%\n"
    }
   },
   "outputs": [
    {
     "name": "stdout",
     "output_type": "stream",
     "text": [
      "Доверительный интервал мат. ожидания(n = 20): (-0.3132815693175556, 0.5684815693175556)\n",
      "Доверительный интервал мат. ожидания(n = 100): (-0.10349353108877087, 0.23229353108877088)\n",
      "Доверительный интервал мат. ожидания(n = 500): (-0.1242502153895629, 0.01705021538956291)\n",
      "Доверительный интервал мат. ожидания(n = 1000): (-0.0211150454820696, 0.0801150454820696)\n",
      "Доверительный интервал мат. ожидания(n = 10000): (-0.01778966424542385, 0.01478966424542385)\n"
     ]
    }
   ],
   "source": [
    "series_len = (20, 100, 500, 1000, 10000)\n",
    "intervals = [plot_significance_level(generate_series(i)) for i in series_len]"
   ]
  },
  {
   "cell_type": "code",
   "execution_count": 22,
   "metadata": {},
   "outputs": [],
   "source": [
    "def plot_conf_interval(y_lim, intervals):\n",
    "    for j in range(len(conf_level)):\n",
    "        plt.title('$p={}$'.format(conf_level[j]))\n",
    "        plt.plot(series_len, [intervals[i][j] for i in range(len(series_len))])\n",
    "        plot_show(False)"
   ]
  },
  {
   "cell_type": "code",
   "execution_count": 85,
   "metadata": {
    "pycharm": {
     "name": "#%%\n"
    }
   },
   "outputs": [
    {
     "data": {
      "image/png": "[encoded data removed]",
      "text/plain": [
       "<Figure size 432x288 with 1 Axes>"
      ]
     },
     "metadata": {
      "needs_background": "light"
     },
     "output_type": "display_data"
    },
    {
     "data": {
      "image/png": "[encoded data removed]",
      "text/plain": [
       "<Figure size 432x288 with 1 Axes>"
      ]
     },
     "metadata": {
      "needs_background": "light"
     },
     "output_type": "display_data"
    },
    {
     "data": {
      "image/png": "[encoded data removed]",
      "text/plain": [
       "<Figure size 432x288 with 1 Axes>"
      ]
     },
     "metadata": {
      "needs_background": "light"
     },
     "output_type": "display_data"
    }
   ],
   "source": [
    "plot_conf_interval((0.01, 0.5), intervals)"
   ]
  },
  {
   "cell_type": "markdown",
   "metadata": {
    "pycharm": {
     "name": "#%% md\n"
    }
   },
   "source": [
    "Доверительный интервал для Дисперсии.\n",
    "\n",
    "\\begin{equation*}\n",
    "\\frac{nD}{\\chi_{\\frac{1-\\gamma}{2}, n-1}^2} \\leq D_x < \\frac{nD}{\\chi_{\\frac{1+\\gamma}{2}, n-1}^2}\n",
    "\\end{equation*}"
   ]
  },
  {
   "cell_type": "code",
   "execution_count": 23,
   "metadata": {
    "pycharm": {
     "name": "#%%\n"
    }
   },
   "outputs": [],
   "source": [
    "def get_dispersion_interval(series, dispersion):\n",
    "    ns = len(series) * dispersion\n",
    "    dispersion_intervals = []\n",
    "    for j in conf_level:\n",
    "        chi_l = chi2.ppf(1 - (1 - j) / 2, len(series))\n",
    "        chi_r = chi2.ppf(1 - (1 + j) / 2, len(series))\n",
    "        dispersion_intervals.append((ns / chi_l, ns / chi_r))\n",
    "\n",
    "    return dispersion_intervals"
   ]
  },
  {
   "cell_type": "code",
   "execution_count": 24,
   "metadata": {
    "pycharm": {
     "name": "#%%\n"
    }
   },
   "outputs": [],
   "source": [
    "def create_practical_expected_interval(series):\n",
    "    empiric_expected_value = calculate_expected_value(series)\n",
    "    empiric_dispersion = calculate_dispersion(empiric_expected_value, series)\n",
    "    return get_dispersion_interval(series, empiric_dispersion), empiric_dispersion"
   ]
  },
  {
   "cell_type": "code",
   "execution_count": 25,
   "metadata": {
    "pycharm": {
     "name": "#%%\n"
    }
   },
   "outputs": [],
   "source": [
    "def plot_dispersion_cmp(series, y_lim=(0.01, 0.4)):\n",
    "    empiric_interval_data = create_practical_expected_interval(series)\n",
    "    print(f\"Доверительный интервал дисперсии(n = {len(series)}): {empiric_interval_data[0][0]}\")\n",
    "    empiric_interval_len = calculate_intervals_len(empiric_interval_data[0])\n",
    "\n",
    "    return empiric_interval_len"
   ]
  },
  {
   "cell_type": "code",
   "execution_count": null,
   "metadata": {
    "pycharm": {
     "name": "#%%\n"
    }
   },
   "outputs": [],
   "source": []
  },
  {
   "cell_type": "code",
   "execution_count": 26,
   "metadata": {},
   "outputs": [
    {
     "name": "stdout",
     "output_type": "stream",
     "text": [
      "Доверительный интервал дисперсии(n = 20): (1.130452425666642, 3.272382009979162)\n",
      "Доверительный интервал дисперсии(n = 100): (0.748579845169357, 1.1944134327484626)\n",
      "Доверительный интервал дисперсии(n = 500): (0.799003036666279, 0.9839768265703409)\n",
      "Доверительный интервал дисперсии(n = 1000): (0.8431351330006924, 0.9768278421281298)\n",
      "Доверительный интервал дисперсии(n = 10000): (0.9706120503165583, 1.016837225891135)\n"
     ]
    }
   ],
   "source": [
    "series_len = (20, 100, 500, 1000, 10000)\n",
    "intervals = [plot_dispersion_cmp(generate_series(i)) for i in series_len]"
   ]
  },
  {
   "cell_type": "code",
   "execution_count": 27,
   "metadata": {
    "scrolled": false
   },
   "outputs": [
    {
     "data": {
      "image/png": "[encoded data removed]",
      "text/plain": [
       "<Figure size 432x288 with 1 Axes>"
      ]
     },
     "metadata": {
      "needs_background": "light"
     },
     "output_type": "display_data"
    },
    {
     "data": {
      "image/png": "[encoded data removed]",
      "text/plain": [
       "<Figure size 432x288 with 1 Axes>"
      ]
     },
     "metadata": {
      "needs_background": "light"
     },
     "output_type": "display_data"
    },
    {
     "data": {
      "image/png": "[encoded data removed]",
      "text/plain": [
       "<Figure size 432x288 with 1 Axes>"
      ]
     },
     "metadata": {
      "needs_background": "light"
     },
     "output_type": "display_data"
    }
   ],
   "source": [
    "plot_conf_interval((0.01, 0.5), intervals)"
   ]
  },
  {
   "cell_type": "code",
   "execution_count": null,
   "metadata": {},
   "outputs": [],
   "source": []
  },
  {
   "cell_type": "markdown",
   "metadata": {},
   "source": [
    "Критерий согласия Пирсона:\n",
    "\n",
    "\\begin{equation*}\n",
    "\\chi^2 = N \\sum_{i=1}^n \\frac{(P_i^{эмп.} - P_i^{теор.})^2}{P_i^{теор.}}\n",
    "\\end{equation*}"
   ]
  },
  {
   "cell_type": "code",
   "execution_count": 27,
   "metadata": {},
   "outputs": [],
   "source": [
    "def count_interval_values(sample, m, A, B):\n",
    "    v = [0] * m\n",
    "    for i in range(0, m):\n",
    "        for value in sample:\n",
    "            if A[i] < value < B[i]:\n",
    "                v[i] += 1\n",
    "    v[0] += 1\n",
    "    v[-1] += 1\n",
    "    return v"
   ]
  },
  {
   "cell_type": "code",
   "execution_count": 28,
   "metadata": {},
   "outputs": [],
   "source": [
    "def split_series_into_intervals(sample, m, n):       \n",
    "    delta = (sample[-1] - sample[0]) / m\n",
    "    A = [sample[0] + (i - 1) * delta for i in range(1, m + 1)]\n",
    "    B = [sample[0] + i * delta for i in range(1, m + 1)]\n",
    "    v = count_interval_values(sample, m, A, B)\n",
    "    f = [v[i] /(n * delta) for i in range(m)]\n",
    "    return A, B, f"
   ]
  },
  {
   "cell_type": "code",
   "execution_count": 29,
   "metadata": {},
   "outputs": [],
   "source": [
    "def Pearsons_chi_square_test(sample, m, n):\n",
    "    A, B, f = split_series_into_intervals(sample, m, n)\n",
    "    v_interval = count_interval_values(sample, m, A, B)\n",
    "    p_interval = [v_interval[i] / n for i in range(m)]\n",
    "    p_t = [F(B[i]) - F(A[i]) for i in range(m)]\n",
    "    sig_level = 0.1\n",
    "    if abs(1 - sum(p_t)) > sig_level:\n",
    "        conf_interval *= 2\n",
    "    chi_pract = n * sum([(p_t[i] - p_interval[i]) ** 2 / p_t[i] for i in range(m)])\n",
    "    print(\"Критерий согласия Пирсона:\")\n",
    "    chi_lim = chi2.isf(sig_level, m - 1)\n",
    "    if chi_pract < chi_lim:\n",
    "        print(f\"{chi_pract}  < {chi_lim}\")\n",
    "        print(\"Закон распределения соответсятвует теоретическому\")\n",
    "    else:\n",
    "        print(f\"{chi_pract}  > {chi_lim}\")\n",
    "        print(\"Закон распределения не соответсятвует теоретическому\")\n",
    "\n"
   ]
  },
  {
   "cell_type": "code",
   "execution_count": 31,
   "metadata": {},
   "outputs": [
    {
     "name": "stdout",
     "output_type": "stream",
     "text": [
      "Введите n:\n",
      "1000\n",
      "Введите m:\n",
      "200\n",
      "Критерий согласия Пирсона:\n",
      "210.31772658988214  < 224.9567936780495\n",
      "Закон распределения соответсятвует теоретическому\n"
     ]
    }
   ],
   "source": [
    "print(\"Введите n:\")\n",
    "n = int(input())\n",
    "print(\"Введите m:\")\n",
    "m = int(input())\n",
    "\n",
    "\n",
    "sample = sorted(generate_series(n))\n",
    "Pearsons_chi_square_test(sample, m, n)"
   ]
  },
  {
   "cell_type": "markdown",
   "metadata": {},
   "source": [
    "### Дискретная СВ"
   ]
  },
  {
   "cell_type": "code",
   "execution_count": null,
   "metadata": {
    "scrolled": true
   },
   "outputs": [],
   "source": []
  },
  {
   "cell_type": "code",
   "execution_count": 20,
   "metadata": {},
   "outputs": [],
   "source": [
    "def discrete_distribution(a, b, intervals_amount):\n",
    "        part_size = 1 / intervals_amount\n",
    "        r = random()\n",
    "        part_num = r // part_size\n",
    "\n",
    "        mult = (b - a) / intervals\n",
    "\n",
    "        return part_num * mult + a\n",
    "    \n",
    "#print(discrete_distribution(5, 7, 100))"
   ]
  },
  {
   "cell_type": "code",
   "execution_count": 21,
   "metadata": {},
   "outputs": [],
   "source": [
    "#\"1-exp(-x**3)\"\n",
    "#\"0\"\n",
    "#\"3\"\n",
    "\n",
    "#\"x**(1/2)\" \n",
    "#0\n",
    "#1"
   ]
  },
  {
   "cell_type": "code",
   "execution_count": 22,
   "metadata": {},
   "outputs": [],
   "source": [
    "\n",
    "str_func = \"1-exp(-x**3)\" #\"(x-5)/2\"\n",
    "\n",
    "a = 0.0\n",
    "\n",
    "b = 3.0\n",
    "\n",
    "intervals_number = 50\n",
    "\n",
    "def F(x):\n",
    "    xs = Symbol(\"x\")\n",
    "    expr = sympify(str_func)\n",
    "    expr = lambdify(xs, expr)\n",
    "    return expr(x)"
   ]
  },
  {
   "cell_type": "code",
   "execution_count": 23,
   "metadata": {},
   "outputs": [],
   "source": [
    "def generate_discrete_distribution_probability(xs, intervals_number):\n",
    "    distr_borders = []\n",
    "    poss = []\n",
    "    for i in range(intervals_number - 1):\n",
    "        poss.append(F(xs[i+1]) - F(xs[i]))\n",
    "    return poss\n"
   ]
  },
  {
   "cell_type": "code",
   "execution_count": 24,
   "metadata": {},
   "outputs": [],
   "source": [
    "    def generate_discrete_value(xs, probs):\n",
    "        position = random()\n",
    "        acc = 0\n",
    "        res = 0\n",
    "        for i in range(len(probs)):\n",
    "            acc += probs[i]\n",
    "            if position <= acc:\n",
    "                res = i\n",
    "                return xs[res]\n",
    "        return xs[-1]\n",
    "    "
   ]
  },
  {
   "cell_type": "code",
   "execution_count": 25,
   "metadata": {},
   "outputs": [],
   "source": [
    "def generate_series(amount):\n",
    "    sample = []\n",
    "    xs = list(np.linspace(a, b, num=intervals_number))\n",
    "    probs = generate_discrete_distribution_probability(xs, intervals_number)\n",
    "    for _ in range(amount):\n",
    "        sample.append(generate_discrete_value(xs, probs))\n",
    "    return sample\n"
   ]
  },
  {
   "cell_type": "code",
   "execution_count": 26,
   "metadata": {},
   "outputs": [],
   "source": [
    "series = generate_series(1000)\n",
    "series.sort()\n"
   ]
  },
  {
   "cell_type": "code",
   "execution_count": 27,
   "metadata": {},
   "outputs": [
    {
     "data": {
      "image/png": "[encoded data removed]",
      "text/plain": [
       "<Figure size 432x288 with 1 Axes>"
      ]
     },
     "metadata": {
      "needs_background": "light"
     },
     "output_type": "display_data"
    }
   ],
   "source": [
    "parts = 100\n",
    "A_new, B_new, f_new, m_new = equal_interval_hist(series, len(series), parts)\n",
    "plt.title(\"Гистограмма\")\n",
    "plt.step(B_new, f_new, color='green')\n",
    "plt.show()"
   ]
  },
  {
   "cell_type": "code",
   "execution_count": null,
   "metadata": {},
   "outputs": [],
   "source": []
  },
  {
   "cell_type": "markdown",
   "metadata": {
    "pycharm": {
     "name": "#%% md\n"
    }
   },
   "source": [
    "Точечная оценка мат. ожидания:\n",
    "\n",
    "\\begin{equation*}\n",
    "m_x^* = \\frac{1} n \\sum_{i=1}^n x_i\n",
    "\\end{equation*}"
   ]
  },
  {
   "cell_type": "markdown",
   "metadata": {},
   "source": [
    "Точечная оценка дисперсии:\n",
    "\n",
    "\\begin{equation*}\n",
    "D = \\frac{1}{n-1} \\sum_{i=1}^n{\\left( x_i - m_x^* \\right)}^2\n",
    "\\end{equation*}"
   ]
  },
  {
   "cell_type": "code",
   "execution_count": null,
   "metadata": {},
   "outputs": [],
   "source": [
    "print(\"n:\")\n",
    "n = int(input())\n",
    "ser = generate_series(n)\n",
    "exp = calculate_expected_value(ser)\n",
    "print(f\"Значения: {ser}\")\n",
    "print(f\"Точечная оценка Мат. ожидания: {exp}\")\n",
    "print(f\"Точечная оценка Дисперсии: {calculate_dispersion(exp, ser)}\")"
   ]
  },
  {
   "cell_type": "markdown",
   "metadata": {},
   "source": [
    "## Доверительный интервал для математического ожидания:\n",
    "\n",
    "\\begin{equation*}\n",
    "m_x^* - \\frac{D \\cdot t_{\\gamma,n-1}}{\\sqrt{n-1}} \\leq m_x \\le m_x^* + \\frac{D \\cdot t_{\\gamma,n-1}}{\\sqrt{n-1}}\n",
    "\\end{equation*}"
   ]
  },
  {
   "cell_type": "code",
   "execution_count": 41,
   "metadata": {},
   "outputs": [
    {
     "name": "stdout",
     "output_type": "stream",
     "text": [
      "Доверительный интервал мат. ожидания(n = 20): (0.840294899594692, 0.9781051004053081)\n",
      "Доверительный интервал мат. ожидания(n = 100): (0.8356148227269009, 0.8651851772730992)\n",
      "Доверительный интервал мат. ожидания(n = 500): (0.8705942391075869, 0.885805760892413)\n",
      "Доверительный интервал мат. ожидания(n = 1000): (0.8567077404332837, 0.8672922595667163)\n",
      "Доверительный интервал мат. ожидания(n = 10000): (0.8604792376488878, 0.8639207623511121)\n"
     ]
    }
   ],
   "source": [
    "series_len = (20, 100, 500, 1000, 10000)\n",
    "intervals = [plot_significance_level(generate_series(i)) for i in series_len]"
   ]
  },
  {
   "cell_type": "code",
   "execution_count": 42,
   "metadata": {},
   "outputs": [
    {
     "data": {
      "image/png": "[encoded data removed]",
      "text/plain": [
       "<Figure size 432x288 with 1 Axes>"
      ]
     },
     "metadata": {
      "needs_background": "light"
     },
     "output_type": "display_data"
    },
    {
     "data": {
      "image/png": "[encoded data removed]",
      "text/plain": [
       "<Figure size 432x288 with 1 Axes>"
      ]
     },
     "metadata": {
      "needs_background": "light"
     },
     "output_type": "display_data"
    },
    {
     "data": {
      "image/png": "[encoded data removed]",
      "text/plain": [
       "<Figure size 432x288 with 1 Axes>"
      ]
     },
     "metadata": {
      "needs_background": "light"
     },
     "output_type": "display_data"
    }
   ],
   "source": [
    "plot_conf_interval((0.01, 0.08), intervals)"
   ]
  },
  {
   "cell_type": "markdown",
   "metadata": {},
   "source": [
    "Доверительный интервал для Дисперсии.\n",
    "\n",
    "\\begin{equation*}\n",
    "\\frac{nD}{\\chi_{\\frac{1-\\gamma}{2}, n-1}^2} \\leq D_x < \\frac{nD}{\\chi_{\\frac{1+\\gamma}{2}, n-1}^2}\n",
    "\\end{equation*}"
   ]
  },
  {
   "cell_type": "code",
   "execution_count": 54,
   "metadata": {},
   "outputs": [
    {
     "name": "stdout",
     "output_type": "stream",
     "text": [
      "Доверительный интервал дисперсии(n = 20): (0.06946736489818105, 0.20109095262404333)\n",
      "Доверительный интервал дисперсии(n = 100): (0.09908147499448301, 0.15809167910894992)\n",
      "Доверительный интервал дисперсии(n = 500): (0.10015786453515524, 0.1233449851612103)\n",
      "Доверительный интервал дисперсии(n = 1000): (0.10058813362473773, 0.11653800875626404)\n",
      "Доверительный интервал дисперсии(n = 10000): (0.10387200337123743, 0.10881888363256584)\n"
     ]
    }
   ],
   "source": [
    "series_len = (20, 100, 500, 1000, 10000)\n",
    "intervals = [plot_dispersion_cmp(generate_series(i)) for i in series_len]"
   ]
  },
  {
   "cell_type": "code",
   "execution_count": 55,
   "metadata": {},
   "outputs": [
    {
     "data": {
      "image/png": "[encoded data removed]",
      "text/plain": [
       "<Figure size 432x288 with 1 Axes>"
      ]
     },
     "metadata": {
      "needs_background": "light"
     },
     "output_type": "display_data"
    },
    {
     "data": {
      "image/png": "[encoded data removed]",
      "text/plain": [
       "<Figure size 432x288 with 1 Axes>"
      ]
     },
     "metadata": {
      "needs_background": "light"
     },
     "output_type": "display_data"
    },
    {
     "data": {
      "image/png": "[encoded data removed]",
      "text/plain": [
       "<Figure size 432x288 with 1 Axes>"
      ]
     },
     "metadata": {
      "needs_background": "light"
     },
     "output_type": "display_data"
    }
   ],
   "source": [
    "plot_conf_interval((0.01, 0.5), intervals)"
   ]
  },
  {
   "cell_type": "markdown",
   "metadata": {},
   "source": [
    "Критерий согласия Пирсона:\n",
    "\n",
    "\\begin{equation*}\n",
    "\\chi^2 = N\\sum_{i=1}^n \\frac{(P_i^{эмп.} - P_i^{теор.})^2}{P_i^{теор.}}\n",
    "\\end{equation*}"
   ]
  },
  {
   "cell_type": "code",
   "execution_count": 60,
   "metadata": {},
   "outputs": [
    {
     "name": "stdout",
     "output_type": "stream",
     "text": [
      "Введите n:\n",
      "100\n",
      "Введите m:\n",
      "20\n",
      "Критерий согласия Пирсона:\n",
      "16.595248066638145  < 27.20357102935684\n",
      "Закон распределения соответсятвует теоретическому\n"
     ]
    }
   ],
   "source": [
    "print(\"Введите n:\")\n",
    "n = int(input())\n",
    "print(\"Введите m:\")\n",
    "m = int(input())\n",
    "sample = sorted(generate_series(n))\n",
    "Pearsons_chi_square_test(sample, m, n)"
   ]
  },
  {
   "cell_type": "code",
   "execution_count": null,
   "metadata": {},
   "outputs": [],
   "source": []
  },
  {
   "cell_type": "code",
   "execution_count": null,
   "metadata": {},
   "outputs": [],
   "source": []
  }
 ],
 "metadata": {
  "kernelspec": {
   "display_name": "Python 3",
   "language": "python",
   "name": "python3"
  },
  "language_info": {
   "codemirror_mode": {
    "name": "ipython",
    "version": 3
   },
   "file_extension": ".py",
   "mimetype": "text/x-python",
   "name": "python",
   "nbconvert_exporter": "python",
   "pygments_lexer": "ipython3",
   "version": "3.7.6"
  }
 },
 "nbformat": 4,
 "nbformat_minor": 1
}
